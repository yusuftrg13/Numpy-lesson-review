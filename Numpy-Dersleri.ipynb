{
 "cells": [
  {
   "cell_type": "code",
   "execution_count": 1,
   "id": "91f28e38",
   "metadata": {},
   "outputs": [],
   "source": [
    "import numpy as np"
   ]
  },
  {
   "cell_type": "code",
   "execution_count": 2,
   "id": "3a186ffe",
   "metadata": {},
   "outputs": [
    {
     "name": "stdout",
     "output_type": "stream",
     "text": [
      "[10 20 30 40 50]\n"
     ]
    }
   ],
   "source": [
    "#From Pyhton List to ndarray\n",
    "mylist=[10,20,30,40,50]\n",
    "my_array=np.array(mylist)\n",
    "print(my_array)"
   ]
  },
  {
   "cell_type": "code",
   "execution_count": 4,
   "id": "20529677",
   "metadata": {},
   "outputs": [
    {
     "name": "stdout",
     "output_type": "stream",
     "text": [
      "[[1 4 5]\n",
      " [1 7 9]\n",
      " [7 8 9]]\n"
     ]
    }
   ],
   "source": [
    "#Multiple sizes\n",
    "my_matrix=np.array([[1,4,5],[1,7,9],[7,8,9]])\n",
    "print(my_matrix)"
   ]
  },
  {
   "cell_type": "code",
   "execution_count": 5,
   "id": "4dec5371",
   "metadata": {},
   "outputs": [
    {
     "name": "stdout",
     "output_type": "stream",
     "text": [
      "[[0. 0. 0. 0.]\n",
      " [0. 0. 0. 0.]\n",
      " [0. 0. 0. 0.]]\n"
     ]
    }
   ],
   "source": [
    "#Make ndrarray with 0\n",
    "zero_array=np.zeros((3,4))\n",
    "print(zero_array)"
   ]
  },
  {
   "cell_type": "code",
   "execution_count": 6,
   "id": "7186d2ee",
   "metadata": {},
   "outputs": [
    {
     "name": "stdout",
     "output_type": "stream",
     "text": [
      "[[1. 1. 1. 1.]\n",
      " [1. 1. 1. 1.]\n",
      " [1. 1. 1. 1.]]\n"
     ]
    }
   ],
   "source": [
    "#Make ndarray with 1\n",
    "one_array=np.ones((3,4))\n",
    "print(one_array)"
   ]
  },
  {
   "cell_type": "code",
   "execution_count": 7,
   "id": "70d4d04f",
   "metadata": {},
   "outputs": [
    {
     "name": "stdout",
     "output_type": "stream",
     "text": [
      "[ 0  3  6  9 12 15 18 21 24 27]\n"
     ]
    }
   ],
   "source": [
    "#Create a spaced array\n",
    "array_range=np.arange(0,30,3)\n",
    "print(array_range)"
   ]
  },
  {
   "cell_type": "code",
   "execution_count": 8,
   "id": "9a021252",
   "metadata": {},
   "outputs": [
    {
     "name": "stdout",
     "output_type": "stream",
     "text": [
      "[0.         0.55555556 1.11111111 1.66666667 2.22222222 2.77777778\n",
      " 3.33333333 3.88888889 4.44444444 5.        ]\n"
     ]
    }
   ],
   "source": [
    "linspace_array=np.linspace(0,5,10)\n",
    "print(linspace_array)"
   ]
  },
  {
   "cell_type": "code",
   "execution_count": 12,
   "id": "6e1f1e88",
   "metadata": {},
   "outputs": [
    {
     "name": "stdout",
     "output_type": "stream",
     "text": [
      "[10 14 18 19 12 18 17]\n",
      "(7,)\n",
      "int32\n"
     ]
    }
   ],
   "source": [
    "new_array=[10,14,18,19,12,18,17]\n",
    "new_array1=np.array(new_array)\n",
    "print(new_array1)\n",
    "\n",
    "print(new_array1.shape)\n",
    "\n",
    "print(new_array1.dtype)"
   ]
  },
  {
   "cell_type": "code",
   "execution_count": 14,
   "id": "bccb3c33",
   "metadata": {},
   "outputs": [
    {
     "name": "stdout",
     "output_type": "stream",
     "text": [
      "1\n",
      "10\n",
      "[ 9 10 11 13]\n"
     ]
    }
   ],
   "source": [
    "#Lets make the ndarray\n",
    "ar=np.array([1,4,7,8,9,10,11,13,15])\n",
    "\n",
    "#Looking for index\n",
    "print(ar[0]) #1\n",
    "print(ar[5]) #10\n",
    "\n",
    "#Slicing\n",
    "print(ar[4:8])"
   ]
  },
  {
   "cell_type": "code",
   "execution_count": 15,
   "id": "9f57d962",
   "metadata": {},
   "outputs": [
    {
     "name": "stdout",
     "output_type": "stream",
     "text": [
      "[50 70 90]\n",
      "[30 30 30]\n",
      "[ 400 1000 1800]\n",
      "[4.  2.5 2. ]\n"
     ]
    }
   ],
   "source": [
    "#Add ndarray\n",
    "array1=np.array([10,20,30])\n",
    "array2=np.array([40,50,60])\n",
    "\n",
    "#Array Add\n",
    "print(array1+array2)\n",
    "\n",
    "#Subtraction process\n",
    "print(array2-array1)\n",
    "\n",
    "#Multiplication\n",
    "print(array2*array1)\n",
    "\n",
    "#Division\n",
    "print(array2/array1)"
   ]
  },
  {
   "cell_type": "code",
   "execution_count": 17,
   "id": "32012568",
   "metadata": {},
   "outputs": [
    {
     "name": "stdout",
     "output_type": "stream",
     "text": [
      "[1.         1.41421356 1.73205081 2.64575131 2.82842712 3.        ]\n",
      "[  1   8  27 343 512 729]\n",
      "[0.84147098 0.90929743 0.14112001 0.6569866  0.98935825 0.41211849]\n"
     ]
    }
   ],
   "source": [
    "#Universal Functions\n",
    "array=np.array([1,2,3,7,8,9])\n",
    "\n",
    "#taking square root\n",
    "print(np.sqrt(array))\n",
    "\n",
    "\n",
    "print(np.power(array,3))\n",
    "\n",
    "\n",
    "print(np.sin(array))"
   ]
  },
  {
   "cell_type": "code",
   "execution_count": 18,
   "id": "6d5acfe8",
   "metadata": {},
   "outputs": [
    {
     "name": "stdout",
     "output_type": "stream",
     "text": [
      "[[14 17]\n",
      " [18 96]\n",
      " [57 36]]\n"
     ]
    }
   ],
   "source": [
    "#Reshaping\n",
    "\n",
    "array=np.array([[14,17,18],\n",
    "               [96,57,36]])\n",
    "\n",
    "#Reshape\n",
    "reshape_arr = array.reshape(3,2)\n",
    "print(reshape_arr)"
   ]
  },
  {
   "cell_type": "code",
   "execution_count": 21,
   "id": "bbc23c49",
   "metadata": {},
   "outputs": [
    {
     "name": "stdout",
     "output_type": "stream",
     "text": [
      "[ 80 100  90 130]\n",
      "[-60 -60 -30 -50]\n",
      "[ 700 1600 1800 3600]\n",
      "[0.14285714 0.25       0.5        0.44444444]\n",
      "[3.16227766 4.47213595 5.47722558 6.32455532]\n",
      "[ 100  400  900 1600]\n"
     ]
    }
   ],
   "source": [
    "#1. Matematiksel Ufuncs:\n",
    "A=np.array([10,20,30,40])\n",
    "B=np.array([70,80,60,90])\n",
    "\n",
    "print(np.add(A,B))\n",
    "\n",
    "print(np.subtract(A,B))\n",
    "\n",
    "print(np.multiply(A,B))\n",
    "\n",
    "print(np.divide(A,B))\n",
    "\n",
    "print(np.sqrt(A))\n",
    "\n",
    "print(np.power(A,2))\n"
   ]
  },
  {
   "cell_type": "code",
   "execution_count": 23,
   "id": "298dabe8",
   "metadata": {},
   "outputs": [
    {
     "name": "stdout",
     "output_type": "stream",
     "text": [
      "[0.0000000e+00 1.0000000e+00 1.2246468e-16]\n",
      "[ 1.000000e+00  6.123234e-17 -1.000000e+00]\n",
      "[ 0.00000000e+00  1.63312394e+16 -1.22464680e-16]\n"
     ]
    }
   ],
   "source": [
    "#Trigonometri\n",
    "\n",
    "x=np.array([0,np.pi/2,np.pi])\n",
    "\n",
    "print(np.sin(x))\n",
    "\n",
    "print(np.cos(x))\n",
    "\n",
    "print(np.tan(x))"
   ]
  },
  {
   "cell_type": "code",
   "execution_count": 24,
   "id": "9c173fe3",
   "metadata": {},
   "outputs": [
    {
     "name": "stdout",
     "output_type": "stream",
     "text": [
      "5.8\n",
      "6.0\n",
      "3.1240998703626617\n"
     ]
    }
   ],
   "source": [
    "x=np.array([1,4,6,8,10])\n",
    "\n",
    "print(np.mean(x))\n",
    "\n",
    "print(np.median(x))\n",
    "\n",
    "print(np.std(x))"
   ]
  },
  {
   "cell_type": "code",
   "execution_count": 26,
   "id": "56871039",
   "metadata": {},
   "outputs": [
    {
     "name": "stdout",
     "output_type": "stream",
     "text": [
      "[1 2 3 4 5 6]\n",
      "[[1 2]\n",
      " [3 4]\n",
      " [5 6]]\n"
     ]
    }
   ],
   "source": [
    "#CONCATENATE\n",
    "\n",
    "#İki 1D ndarray birleştirme\n",
    "\n",
    "ar1=np.array([1,2,3])\n",
    "ar2=np.array([4,5,6])\n",
    "\n",
    "result=np.concatenate((ar1,ar2))\n",
    "print(result)\n",
    "\n",
    "\n",
    "#İki 2D ndarray birleştirme\n",
    "\n",
    "arr3=np.array([[1,2],[3,4]])\n",
    "arr4=np.array([[5,6]])\n",
    "result=np.concatenate((arr3,arr4))\n",
    "print(result)"
   ]
  },
  {
   "cell_type": "code",
   "execution_count": 28,
   "id": "50dff782",
   "metadata": {},
   "outputs": [
    {
     "name": "stdout",
     "output_type": "stream",
     "text": [
      "[[1 2 3]\n",
      " [4 5 6]]\n",
      "[[1 7]\n",
      " [2 8]\n",
      " [3 9]]\n"
     ]
    }
   ],
   "source": [
    "import numpy as np\n",
    "\n",
    "# Dikey olarak birleştirme\n",
    "arr1 = np.array([1, 2, 3])\n",
    "arr2 = np.array([4, 5, 6])\n",
    "result_vertical = np.vstack((arr1, arr2))\n",
    "print(result_vertical)\n",
    "\n",
    "\n",
    "# Yatay olarak birleştirme\n",
    "arr3 = np.array([[7], [8], [9]])\n",
    "result_horizontal = np.hstack((arr1.reshape(-1, 1), arr3))\n",
    "print(result_horizontal)\n"
   ]
  },
  {
   "cell_type": "code",
   "execution_count": null,
   "id": "89c1b46d",
   "metadata": {},
   "outputs": [],
   "source": []
  }
 ],
 "metadata": {
  "kernelspec": {
   "display_name": "Python 3 (ipykernel)",
   "language": "python",
   "name": "python3"
  },
  "language_info": {
   "codemirror_mode": {
    "name": "ipython",
    "version": 3
   },
   "file_extension": ".py",
   "mimetype": "text/x-python",
   "name": "python",
   "nbconvert_exporter": "python",
   "pygments_lexer": "ipython3",
   "version": "3.11.3"
  }
 },
 "nbformat": 4,
 "nbformat_minor": 5
}
